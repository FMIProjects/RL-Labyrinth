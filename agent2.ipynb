{
 "cells": [
  {
   "cell_type": "code",
   "id": "initial_id",
   "metadata": {
    "collapsed": true
   },
   "source": [
    "from agents.Q_learning_agent import QLearningAgent\n",
    "from agents.base_agent import test_agent\n",
    "from environment.maze_env import MazeEnv"
   ],
   "outputs": [],
   "execution_count": null
  },
  {
   "metadata": {
    "ExecuteTime": {
     "end_time": "2024-12-27T19:41:22.176268Z",
     "start_time": "2024-12-27T19:41:22.172986Z"
    }
   },
   "cell_type": "code",
   "source": [
    "env = MazeEnv(\n",
    "    width=6,\n",
    "    height=6,\n",
    "    num_keys=3,\n",
    "    num_obstacles=0,\n",
    "    peek_distance=1,\n",
    "    distance_type=\"manhattan\",\n",
    ")\n",
    "\n",
    "agent = QLearningAgent(\n",
    "    env=env,\n",
    "    alpha=0.1,\n",
    "    gamma=0.99,\n",
    "    epsilon=1.0,\n",
    "    epsilon_decay=0.99994,\n",
    "    epsilon_min=0.2,\n",
    "    load_pickle_path=None,\n",
    "    store_pickle_path=\"./agent_rack/q_learning_agent.pkl\",\n",
    ")"
   ],
   "id": "905795856125288c",
   "outputs": [],
   "execution_count": 38
  },
  {
   "metadata": {},
   "cell_type": "code",
   "source": [
    "print(\"Training started...\")\n",
    "agent.train(episodes=100000)\n",
    "agent.serialize()"
   ],
   "id": "c2d9e16dcc198c78",
   "outputs": [],
   "execution_count": null
  },
  {
   "metadata": {},
   "cell_type": "code",
   "source": [
    "print(\"Testing started...\")\n",
    "test_agent(env, agent, episodes=1)"
   ],
   "id": "cb225ebd35fbda32",
   "outputs": [],
   "execution_count": null
  },
  {
   "metadata": {},
   "cell_type": "code",
   "source": "print(max(0.1,1.0 * (0.95 ** 135)))",
   "id": "afe6d15ae1d1bfb7",
   "outputs": [],
   "execution_count": null
  }
 ],
 "metadata": {
  "kernelspec": {
   "display_name": "Python 3",
   "language": "python",
   "name": "python3"
  },
  "language_info": {
   "codemirror_mode": {
    "name": "ipython",
    "version": 2
   },
   "file_extension": ".py",
   "mimetype": "text/x-python",
   "name": "python",
   "nbconvert_exporter": "python",
   "pygments_lexer": "ipython2",
   "version": "2.7.6"
  }
 },
 "nbformat": 4,
 "nbformat_minor": 5
}
