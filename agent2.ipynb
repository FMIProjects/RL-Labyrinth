{
 "cells": [
  {
   "cell_type": "code",
   "id": "initial_id",
   "metadata": {
    "collapsed": true,
    "ExecuteTime": {
     "end_time": "2024-12-27T20:45:26.907676Z",
     "start_time": "2024-12-27T20:45:26.692072Z"
    }
   },
   "source": [
    "from agents.Q_learning_agent import QLearningAgent\n",
    "from agents.base_agent import test_agent\n",
    "from environment.maze_env import MazeEnv"
   ],
   "outputs": [
    {
     "name": "stdout",
     "output_type": "stream",
     "text": [
      "pygame 2.6.1 (SDL 2.30.7, Python 3.10.15)\n",
      "Hello from the pygame community. https://www.pygame.org/contribute.html\n"
     ]
    },
    {
     "name": "stderr",
     "output_type": "stream",
     "text": [
      "<frozen importlib._bootstrap>:241: RuntimeWarning: Your system is avx2 capable but pygame was not built with support for it. The performance of some of your blits could be adversely affected. Consider enabling compile time detection with environment variables like PYGAME_DETECT_AVX2=1 if you are compiling without cross compilation.\n"
     ]
    }
   ],
   "execution_count": 1
  },
  {
   "metadata": {
    "ExecuteTime": {
     "end_time": "2024-12-27T20:45:26.975111Z",
     "start_time": "2024-12-27T20:45:26.967161Z"
    }
   },
   "cell_type": "code",
   "source": [
    "env = MazeEnv(\n",
    "    width=6,\n",
    "    height=6,\n",
    "    num_keys=3,\n",
    "    num_obstacles=0,\n",
    "    peek_distance=1,\n",
    "    distance_type=\"manhattan\",\n",
    ")\n",
    "\n",
    "agent = QLearningAgent(\n",
    "    env=env,\n",
    "    alpha=0.1,\n",
    "    gamma=0.99,\n",
    "    epsilon=1.0,\n",
    "    epsilon_decay=0.99994,\n",
    "    epsilon_min=0.2,\n",
    "    load_pickle_path=None,\n",
    "    store_pickle_path=\"./agent_rack/q_learning_agent.pkl\",\n",
    ")"
   ],
   "id": "905795856125288c",
   "outputs": [],
   "execution_count": 2
  },
  {
   "metadata": {},
   "cell_type": "code",
   "source": [
    "print(\"Training started...\")\n",
    "agent.train(episodes=10000)\n",
    "agent.serialize()"
   ],
   "id": "c2d9e16dcc198c78",
   "outputs": [],
   "execution_count": null
  },
  {
   "metadata": {
    "ExecuteTime": {
     "end_time": "2024-12-27T20:45:31.801374Z",
     "start_time": "2024-12-27T20:45:28.573039Z"
    }
   },
   "cell_type": "code",
   "source": [
    "\n",
    "agent = QLearningAgent(load_pickle_path=\"./agent_rack/q_learning_agent.pkl\")\n",
    "agent.deserialize()\n",
    "print(\"Testing started...\")\n",
    "test_agent(agent.env, agent, episodes=1)"
   ],
   "id": "cb225ebd35fbda32",
   "outputs": [
    {
     "name": "stdout",
     "output_type": "stream",
     "text": [
      "Testing started...\n",
      "Choose action: 3\n",
      "Choose action: 3\n",
      "Choose action: 3\n",
      "Choose action: 3\n",
      "Choose action: 3\n",
      "Choose action: 3\n",
      "Choose action: 3\n",
      "Choose action: 3\n",
      "Choose action: 3\n",
      "Choose action: 3\n",
      "Choose action: 3\n",
      "Choose action: 3\n",
      "Choose action: 3\n",
      "Choose action: 3\n",
      "Choose action: 3\n",
      "Choose action: 3\n",
      "Choose action: 3\n",
      "Choose action: 3\n",
      "Choose action: 3\n",
      "Choose action: 3\n",
      "Choose action: 3\n",
      "Choose action: 3\n",
      "Choose action: 3\n",
      "Choose action: 3\n",
      "Choose action: 3\n",
      "Choose action: 3\n",
      "Choose action: 3\n",
      "Choose action: 3\n",
      "Choose action: 3\n",
      "Choose action: 3\n",
      "Choose action: 3\n",
      "Choose action: 3\n",
      "Choose action: 3\n",
      "Choose action: 3\n",
      "Choose action: 3\n",
      "Choose action: 3\n",
      "Choose action: 3\n",
      "Choose action: 3\n",
      "Choose action: 3\n",
      "Choose action: 3\n",
      "Choose action: 3\n",
      "Choose action: 3\n",
      "Choose action: 3\n",
      "Choose action: 3\n",
      "Choose action: 3\n",
      "Choose action: 3\n",
      "Choose action: 3\n",
      "Choose action: 3\n",
      "Choose action: 3\n",
      "Choose action: 3\n",
      "Choose action: 3\n",
      "Choose action: 3\n",
      "Choose action: 3\n",
      "Choose action: 3\n",
      "Choose action: 3\n",
      "Choose action: 3\n",
      "Choose action: 3\n",
      "Choose action: 3\n",
      "Choose action: 3\n",
      "Choose action: 3\n",
      "Choose action: 3\n",
      "Choose action: 3\n",
      "Choose action: 3\n",
      "Choose action: 3\n",
      "Choose action: 3\n",
      "Choose action: 3\n",
      "Choose action: 3\n",
      "Choose action: 3\n",
      "Choose action: 3\n",
      "Choose action: 3\n",
      "Choose action: 3\n",
      "Choose action: 3\n",
      "Choose action: 3\n",
      "Choose action: 3\n",
      "Choose action: 3\n",
      "Choose action: 3\n",
      "Choose action: 3\n",
      "Choose action: 3\n",
      "Choose action: 3\n",
      "Choose action: 3\n",
      "Choose action: 3\n",
      "Choose action: 3\n",
      "Choose action: 3\n",
      "Choose action: 3\n",
      "Choose action: 3\n",
      "Choose action: 3\n",
      "Choose action: 3\n",
      "Choose action: 3\n",
      "Choose action: 3\n",
      "Choose action: 3\n",
      "Choose action: 3\n",
      "Choose action: 3\n",
      "Choose action: 3\n",
      "Choose action: 3\n",
      "Choose action: 3\n",
      "Choose action: 3\n",
      "Choose action: 3\n",
      "Choose action: 3\n",
      "Choose action: 3\n",
      "Choose action: 3\n",
      "Choose action: 3\n",
      "Choose action: 3\n",
      "Choose action: 3\n",
      "Choose action: 3\n",
      "Choose action: 3\n",
      "Choose action: 3\n",
      "Choose action: 3\n",
      "Choose action: 3\n",
      "Choose action: 3\n",
      "Choose action: 3\n",
      "Choose action: 3\n",
      "Choose action: 3\n",
      "Choose action: 3\n",
      "Choose action: 3\n",
      "Choose action: 3\n",
      "Choose action: 3\n",
      "Choose action: 3\n",
      "Choose action: 3\n",
      "Choose action: 3\n",
      "Choose action: 3\n",
      "Choose action: 3\n",
      "Choose action: 3\n",
      "Choose action: 3\n",
      "Choose action: 3\n",
      "Choose action: 3\n",
      "Choose action: 3\n",
      "Choose action: 3\n",
      "Choose action: 3\n",
      "Choose action: 3\n",
      "Choose action: 3\n",
      "Choose action: 3\n",
      "Choose action: 3\n",
      "Choose action: 3\n",
      "Choose action: 3\n",
      "Choose action: 3\n",
      "Choose action: 3\n",
      "Choose action: 3\n",
      "Choose action: 3\n",
      "Choose action: 3\n",
      "Choose action: 3\n",
      "Choose action: 3\n",
      "Choose action: 3\n",
      "Choose action: 3\n",
      "Choose action: 3\n",
      "Choose action: 3\n",
      "Choose action: 3\n",
      "Choose action: 3\n",
      "Choose action: 3\n",
      "Choose action: 3\n",
      "Choose action: 3\n",
      "Choose action: 3\n",
      "Choose action: 3\n",
      "Choose action: 3\n",
      "Choose action: 3\n",
      "Choose action: 3\n",
      "Choose action: 3\n",
      "Choose action: 3\n",
      "Choose action: 3\n",
      "Choose action: 3\n",
      "Choose action: 3\n",
      "Choose action: 3\n",
      "Choose action: 3\n",
      "Choose action: 3\n",
      "Choose action: 3\n",
      "Choose action: 3\n",
      "Choose action: 3\n",
      "Choose action: 3\n",
      "Choose action: 3\n",
      "Choose action: 3\n"
     ]
    },
    {
     "ename": "error",
     "evalue": "display Surface quit",
     "output_type": "error",
     "traceback": [
      "\u001B[0;31m---------------------------------------------------------------------------\u001B[0m",
      "\u001B[0;31merror\u001B[0m                                     Traceback (most recent call last)",
      "Cell \u001B[0;32mIn[3], line 4\u001B[0m\n\u001B[1;32m      2\u001B[0m agent\u001B[38;5;241m.\u001B[39mdeserialize()\n\u001B[1;32m      3\u001B[0m \u001B[38;5;28mprint\u001B[39m(\u001B[38;5;124m\"\u001B[39m\u001B[38;5;124mTesting started...\u001B[39m\u001B[38;5;124m\"\u001B[39m)\n\u001B[0;32m----> 4\u001B[0m \u001B[43mtest_agent\u001B[49m\u001B[43m(\u001B[49m\u001B[43magent\u001B[49m\u001B[38;5;241;43m.\u001B[39;49m\u001B[43menv\u001B[49m\u001B[43m,\u001B[49m\u001B[43m \u001B[49m\u001B[43magent\u001B[49m\u001B[43m,\u001B[49m\u001B[43m \u001B[49m\u001B[43mepisodes\u001B[49m\u001B[38;5;241;43m=\u001B[39;49m\u001B[38;5;241;43m1\u001B[39;49m\u001B[43m)\u001B[49m\n",
      "File \u001B[0;32m~/PycharmProjects/RL-Labyrinth/agents/base_agent.py:69\u001B[0m, in \u001B[0;36mtest_agent\u001B[0;34m(env, agent, episodes)\u001B[0m\n\u001B[1;32m     65\u001B[0m done \u001B[38;5;241m=\u001B[39m \u001B[38;5;28;01mFalse\u001B[39;00m\n\u001B[1;32m     67\u001B[0m \u001B[38;5;28;01mwhile\u001B[39;00m \u001B[38;5;129;01mnot\u001B[39;00m done:\n\u001B[0;32m---> 69\u001B[0m     \u001B[43mmaze_renderer\u001B[49m\u001B[38;5;241;43m.\u001B[39;49m\u001B[43mrender\u001B[49m\u001B[43m(\u001B[49m\u001B[43m)\u001B[49m\n\u001B[1;32m     71\u001B[0m     \u001B[38;5;28;01mfor\u001B[39;00m event \u001B[38;5;129;01min\u001B[39;00m pygame\u001B[38;5;241m.\u001B[39mevent\u001B[38;5;241m.\u001B[39mget():\n\u001B[1;32m     72\u001B[0m         \u001B[38;5;28;01mif\u001B[39;00m event\u001B[38;5;241m.\u001B[39mtype \u001B[38;5;241m==\u001B[39m pygame\u001B[38;5;241m.\u001B[39mQUIT:\n",
      "File \u001B[0;32m~/PycharmProjects/RL-Labyrinth/environment/env_renderer.py:111\u001B[0m, in \u001B[0;36mEnvRenderer.render\u001B[0;34m(self, mode)\u001B[0m\n\u001B[1;32m    109\u001B[0m     \u001B[38;5;28;01mfor\u001B[39;00m col \u001B[38;5;129;01min\u001B[39;00m \u001B[38;5;28mrange\u001B[39m(\u001B[38;5;28mself\u001B[39m\u001B[38;5;241m.\u001B[39mmaze_env\u001B[38;5;241m.\u001B[39mwidth):\n\u001B[1;32m    110\u001B[0m         x, y \u001B[38;5;241m=\u001B[39m col \u001B[38;5;241m*\u001B[39m \u001B[38;5;28mself\u001B[39m\u001B[38;5;241m.\u001B[39mcell_size, row \u001B[38;5;241m*\u001B[39m \u001B[38;5;28mself\u001B[39m\u001B[38;5;241m.\u001B[39mcell_size\n\u001B[0;32m--> 111\u001B[0m         \u001B[38;5;28;43mself\u001B[39;49m\u001B[38;5;241;43m.\u001B[39;49m\u001B[43mscreen\u001B[49m\u001B[38;5;241;43m.\u001B[39;49m\u001B[43mblit\u001B[49m\u001B[43m(\u001B[49m\u001B[38;5;28;43mself\u001B[39;49m\u001B[38;5;241;43m.\u001B[39;49m\u001B[43mbackground_images\u001B[49m\u001B[43m[\u001B[49m\u001B[43mi\u001B[49m\u001B[43m]\u001B[49m\u001B[43m,\u001B[49m\u001B[43m \u001B[49m\u001B[43m(\u001B[49m\u001B[43mx\u001B[49m\u001B[43m,\u001B[49m\u001B[43m \u001B[49m\u001B[43my\u001B[49m\u001B[43m)\u001B[49m\u001B[43m)\u001B[49m\n\u001B[1;32m    112\u001B[0m         i \u001B[38;5;241m+\u001B[39m\u001B[38;5;241m=\u001B[39m \u001B[38;5;241m1\u001B[39m\n\u001B[1;32m    114\u001B[0m \u001B[38;5;66;03m# Draw lines\u001B[39;00m\n",
      "\u001B[0;31merror\u001B[0m: display Surface quit"
     ]
    }
   ],
   "execution_count": 3
  },
  {
   "metadata": {},
   "cell_type": "code",
   "source": [
    "# agent.epsilon = 0.1\n",
    "print(agent.epsilon)\n",
    "print(agent.choose_action(1))\n",
    "print(agent.env.cell_neighbours[agent.env.agent_pos[0],agent.env.agent_pos[1]])\n",
    "print(agent.env.maze)\n",
    "print(agent.env.agent_pos)"
   ],
   "id": "895725db48de9266",
   "outputs": [],
   "execution_count": null
  }
 ],
 "metadata": {
  "kernelspec": {
   "display_name": "Python 3",
   "language": "python",
   "name": "python3"
  },
  "language_info": {
   "codemirror_mode": {
    "name": "ipython",
    "version": 2
   },
   "file_extension": ".py",
   "mimetype": "text/x-python",
   "name": "python",
   "nbconvert_exporter": "python",
   "pygments_lexer": "ipython2",
   "version": "2.7.6"
  }
 },
 "nbformat": 4,
 "nbformat_minor": 5
}
