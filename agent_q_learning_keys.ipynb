{
 "cells": [
  {
   "cell_type": "markdown",
   "metadata": {},
   "source": [
    "# Agent - Q-learning\n"
   ]
  },
  {
   "cell_type": "markdown",
   "metadata": {},
   "source": [
    "## Imports"
   ]
  },
  {
   "cell_type": "code",
   "execution_count": null,
   "metadata": {},
   "outputs": [],
   "source": [
    "from agents.Q_learning_agent import QLearningAgent\n",
    "from agents.base_agent import test_agent\n",
    "from environment.maze_envs import MazeEnvKeys"
   ]
  },
  {
   "cell_type": "markdown",
   "metadata": {},
   "source": [
    "## Env + Agent Setup\n",
    "\n",
    "- Medium size maze\n",
    "- No keys\n",
    "- No obstacles\n",
    "- Small observation space"
   ]
  },
  {
   "cell_type": "code",
   "execution_count": null,
   "metadata": {
    "ExecuteTime": {
     "end_time": "2024-12-28T14:19:23.669980Z",
     "start_time": "2024-12-28T14:19:23.630614Z"
    }
   },
   "outputs": [],
   "source": [
    "\n",
    "NUM_KEYS = 1\n",
    "\n",
    "# Try to load the agent otherwise create an untrained one\n",
    "agent = QLearningAgent(load_pickle_path=\"agent_rack/q_learning_agent_small_key_1.pkl\")\n",
    "try:\n",
    "    agent.deserialize()\n",
    "except Exception as e:\n",
    "\n",
    "    env = MazeEnvKeys(\n",
    "        width=6,\n",
    "        height=6,\n",
    "        num_keys=1,\n",
    "        num_obstacles=0,\n",
    "        peek_distance=1,\n",
    "        distance_type=\"manhattan\",\n",
    "        new_layout_on_reset=False\n",
    "    )\n",
    "\n",
    "    agent = QLearningAgent(\n",
    "        env=env,\n",
    "        alpha=0.05,\n",
    "        gamma=0.9,\n",
    "        epsilon=1.0,\n",
    "        epsilon_decay=0.99,\n",
    "        epsilon_min=0.2,\n",
    "        load_pickle_path=None,\n",
    "        store_pickle_path=\"agent_rack/q_learning_agent_small_key_1.pkl\",\n",
    ")\n",
    "\n",
    "print(f\"Agent q-table size: {len(agent.q_table)}\")"
   ]
  },
  {
   "cell_type": "markdown",
   "metadata": {},
   "source": [
    "## Agent Train"
   ]
  },
  {
   "cell_type": "code",
   "execution_count": null,
   "metadata": {},
   "outputs": [],
   "source": [
    "print(\"Training started...\")\n",
    "agent.train(episodes=1000000)"
   ]
  },
  {
   "cell_type": "code",
   "execution_count": 4,
   "metadata": {
    "ExecuteTime": {
     "end_time": "2024-12-28T14:16:12.684188Z",
     "start_time": "2024-12-28T14:16:12.457856Z"
    }
   },
   "outputs": [],
   "source": [
    "agent.serialize()"
   ]
  },
  {
   "cell_type": "markdown",
   "metadata": {},
   "source": [
    "## Agent Test"
   ]
  },
  {
   "cell_type": "code",
   "execution_count": null,
   "metadata": {
    "ExecuteTime": {
     "end_time": "2024-12-28T14:18:07.171509Z",
     "start_time": "2024-12-28T14:17:50.982964Z"
    }
   },
   "outputs": [],
   "source": [
    "print(\"Testing started...\")\n",
    "test_agent(agent.env, agent, episodes=100,renderer_assets_dir_path=\"assets\")"
   ]
  },
  {
   "cell_type": "code",
   "execution_count": null,
   "metadata": {
    "ExecuteTime": {
     "end_time": "2024-12-28T14:09:26.380751Z",
     "start_time": "2024-12-28T14:09:26.378390Z"
    }
   },
   "outputs": [],
   "source": [
    "print(len(agent.q_table))"
   ]
  }
 ],
 "metadata": {
  "kernelspec": {
   "display_name": "RL-Labyrinth",
   "language": "python",
   "name": "python3"
  },
  "language_info": {
   "codemirror_mode": {
    "name": "ipython",
    "version": 3
   },
   "file_extension": ".py",
   "mimetype": "text/x-python",
   "name": "python",
   "nbconvert_exporter": "python",
   "pygments_lexer": "ipython3",
   "version": "3.10.15"
  }
 },
 "nbformat": 4,
 "nbformat_minor": 2
}
