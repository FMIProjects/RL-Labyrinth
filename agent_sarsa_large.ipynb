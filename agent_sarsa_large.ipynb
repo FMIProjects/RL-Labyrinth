{
 "cells": [
  {
   "cell_type": "markdown",
   "metadata": {},
   "source": [
    "# Agent - Sarsa\n"
   ]
  },
  {
   "cell_type": "markdown",
   "metadata": {},
   "source": [
    "## Imports"
   ]
  },
  {
   "cell_type": "code",
   "execution_count": null,
   "metadata": {
    "ExecuteTime": {
     "end_time": "2024-12-28T11:40:54.123951Z",
     "start_time": "2024-12-28T11:40:54.120765Z"
    }
   },
   "outputs": [],
   "source": [
    "from agents.SARSA_agent import SarsaAgent\n",
    "from agents.base_agent import test_agent\n",
    "from environment.maze_envs import MazeEnv"
   ]
  },
  {
   "cell_type": "markdown",
   "metadata": {},
   "source": [
    "## Env + Agent Setup\n",
    "\n",
    "- Medium size maze\n",
    "- No keys\n",
    "- No obstacles\n",
    "- Small observation space"
   ]
  },
  {
   "cell_type": "code",
   "execution_count": null,
   "metadata": {
    "ExecuteTime": {
     "end_time": "2024-12-28T12:24:32.261135Z",
     "start_time": "2024-12-28T12:24:31.922054Z"
    }
   },
   "outputs": [],
   "source": [
    "\n",
    "# Try to load the agent otherwise create an untrained one\n",
    "agent = SarsaAgent(load_pickle_path=\"agent_rack/sarsa_agent_large.pkl\")\n",
    "try:\n",
    "    agent.deserialize()\n",
    "except Exception as e:\n",
    "\n",
    "    env = MazeEnv(\n",
    "        width=20,\n",
    "        height=20,\n",
    "        num_keys=0,\n",
    "        num_obstacles=0,\n",
    "        peek_distance=1,\n",
    "        distance_type=\"manhattan\",\n",
    "        new_layout_on_reset=False\n",
    "    )\n",
    "\n",
    "    agent = SarsaAgent(\n",
    "        env=env,\n",
    "        alpha=0.1,\n",
    "        gamma=0.99,\n",
    "        epsilon=1.0,\n",
    "        epsilon_decay=0.999993,\n",
    "        epsilon_min=0.1,\n",
    "        load_pickle_path=None,\n",
    "        store_pickle_path=\"agent_rack/sarsa_agent_large.pkl\",\n",
    ")\n",
    "\n",
    "print(f\"Agent q-table size: {len(agent.q_table)}\")"
   ]
  },
  {
   "cell_type": "markdown",
   "metadata": {},
   "source": [
    "## Agent Train"
   ]
  },
  {
   "cell_type": "code",
   "execution_count": null,
   "metadata": {
    "ExecuteTime": {
     "end_time": "2024-12-28T12:51:18.405828Z",
     "start_time": "2024-12-28T12:47:51.458560Z"
    }
   },
   "outputs": [],
   "source": [
    "print(\"Training started...\")\n",
    "agent.train(episodes=1000000)"
   ]
  },
  {
   "cell_type": "code",
   "execution_count": 67,
   "metadata": {
    "ExecuteTime": {
     "end_time": "2024-12-28T12:54:03.933393Z",
     "start_time": "2024-12-28T12:54:03.405232Z"
    }
   },
   "outputs": [],
   "source": [
    "agent.serialize()"
   ]
  },
  {
   "cell_type": "markdown",
   "metadata": {},
   "source": [
    "## Agent Test"
   ]
  },
  {
   "cell_type": "code",
   "execution_count": null,
   "metadata": {
    "ExecuteTime": {
     "end_time": "2024-12-28T12:53:49.647638Z",
     "start_time": "2024-12-28T12:53:11.701728Z"
    }
   },
   "outputs": [],
   "source": [
    "print(\"Testing started...\")\n",
    "test_agent(agent.env, agent, episodes=100,renderer_assets_dir_path=\"assets\")"
   ]
  },
  {
   "cell_type": "code",
   "execution_count": null,
   "metadata": {
    "ExecuteTime": {
     "end_time": "2024-12-28T12:46:56.236027Z",
     "start_time": "2024-12-28T12:46:56.232653Z"
    }
   },
   "outputs": [],
   "source": [
    "print(f\"Agent q-table size: {len(agent.q_table)}\")"
   ]
  }
 ],
 "metadata": {
  "kernelspec": {
   "display_name": "RL-Labyrinth",
   "language": "python",
   "name": "python3"
  },
  "language_info": {
   "codemirror_mode": {
    "name": "ipython",
    "version": 3
   },
   "file_extension": ".py",
   "mimetype": "text/x-python",
   "name": "python",
   "nbconvert_exporter": "python",
   "pygments_lexer": "ipython3",
   "version": "3.10.15"
  }
 },
 "nbformat": 4,
 "nbformat_minor": 2
}
