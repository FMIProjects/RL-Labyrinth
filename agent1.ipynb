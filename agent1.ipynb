{
 "cells": [
  {
   "cell_type": "markdown",
   "metadata": {},
   "source": [
    "# Agent 1 - SARSA"
   ]
  },
  {
   "cell_type": "markdown",
   "metadata": {},
   "source": [
    "## Imports"
   ]
  },
  {
   "cell_type": "code",
   "execution_count": null,
   "metadata": {
    "ExecuteTime": {
     "end_time": "2024-12-05T13:09:21.166003Z",
     "start_time": "2024-12-05T13:09:20.987575Z"
    }
   },
   "outputs": [],
   "source": [
    "from agents.SARSA_agent import SarsaAgent\n",
    "from agents.base_agent import test_agent\n",
    "from environment.env_renderer import EnvRenderer\n",
    "from environment.maze_env import MazeEnv"
   ]
  },
  {
   "cell_type": "markdown",
   "metadata": {},
   "source": [
    "## Env + Agent Setup"
   ]
  },
  {
   "cell_type": "code",
   "execution_count": null,
   "metadata": {
    "ExecuteTime": {
     "end_time": "2024-12-05T13:09:21.237280Z",
     "start_time": "2024-12-05T13:09:21.226859Z"
    }
   },
   "outputs": [],
   "source": [
    "env = MazeEnv(\n",
    "    width=6,\n",
    "    height=6,\n",
    "    num_keys=3,\n",
    "    num_obstacles=0,\n",
    "    peek_distance=1,\n",
    "    distance_type=\"manhattan\",\n",
    ")\n",
    "\n",
    "agent = SarsaAgent(\n",
    "    env=env,\n",
    "    alpha=0.1,\n",
    "    gamma=0.99,\n",
    "    epsilon=1.0,\n",
    "    epsilon_decay=0.995,\n",
    "    epsilon_min=0.1,\n",
    "    pickled_q_table_path=\"./agent_rack/sarsa_q_table.pkl\",\n",
    ")"
   ]
  },
  {
   "cell_type": "markdown",
   "metadata": {},
   "source": [
    "## Agent Train"
   ]
  },
  {
   "cell_type": "code",
   "execution_count": null,
   "metadata": {
    "ExecuteTime": {
     "end_time": "2024-12-05T13:09:26.033411Z",
     "start_time": "2024-12-05T13:09:26.020614Z"
    }
   },
   "outputs": [],
   "source": [
    "print(\"Training started...\")\n",
    "agent.train(episodes=100000)"
   ]
  },
  {
   "cell_type": "markdown",
   "metadata": {},
   "source": [
    "## Agent Test"
   ]
  },
  {
   "cell_type": "code",
   "execution_count": null,
   "metadata": {
    "ExecuteTime": {
     "end_time": "2024-12-05T13:10:14.236843Z",
     "start_time": "2024-12-05T13:10:11.253206Z"
    }
   },
   "outputs": [],
   "source": [
    "print(\"Testing started...\")\n",
    "test_agent(env, agent, episodes=1)"
   ]
  }
 ],
 "metadata": {
  "kernelspec": {
   "display_name": "RL-Labyrinth",
   "language": "python",
   "name": "python3"
  },
  "language_info": {
   "codemirror_mode": {
    "name": "ipython",
    "version": 3
   },
   "file_extension": ".py",
   "mimetype": "text/x-python",
   "name": "python",
   "nbconvert_exporter": "python",
   "pygments_lexer": "ipython3",
   "version": "3.10.15"
  }
 },
 "nbformat": 4,
 "nbformat_minor": 2
}
