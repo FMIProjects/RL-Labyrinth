{
 "cells": [
  {
   "cell_type": "markdown",
   "metadata": {},
   "source": [
    "# Agent 1 - (Name of Agent)"
   ]
  },
  {
   "metadata": {
    "ExecuteTime": {
     "end_time": "2024-12-05T13:09:21.166003Z",
     "start_time": "2024-12-05T13:09:20.987575Z"
    }
   },
   "cell_type": "code",
   "source": [
    "import numpy as np\n",
    "from tqdm import tqdm\n",
    "\n",
    "from agents.SARSA_agent import SarsaAgent\n",
    "from agents.base_agent import test_agent\n",
    "from environment.env_renderer import EnvRenderer\n",
    "from environment.maze_env import MazeEnv\n",
    "import pickle"
   ],
   "outputs": [
    {
     "name": "stdout",
     "output_type": "stream",
     "text": [
      "pygame 2.6.1 (SDL 2.30.7, Python 3.10.15)\n",
      "Hello from the pygame community. https://www.pygame.org/contribute.html\n"
     ]
    },
    {
     "name": "stderr",
     "output_type": "stream",
     "text": [
      "<frozen importlib._bootstrap>:241: RuntimeWarning: Your system is avx2 capable but pygame was not built with support for it. The performance of some of your blits could be adversely affected. Consider enabling compile time detection with environment variables like PYGAME_DETECT_AVX2=1 if you are compiling without cross compilation.\n"
     ]
    }
   ],
   "execution_count": 1
  },
  {
   "metadata": {
    "ExecuteTime": {
     "end_time": "2024-12-05T13:09:21.237280Z",
     "start_time": "2024-12-05T13:09:21.226859Z"
    }
   },
   "cell_type": "code",
   "source": [
    "import sys\n",
    "import pygame\n",
    "\n",
    "env = MazeEnv(\n",
    "    width=6,\n",
    "    height=6,\n",
    "    num_keys=3,\n",
    "    num_obstacles=0,\n",
    "    peek_distance=1,\n",
    "    distance_type=\"manhattan\"\n",
    ")\n",
    "\n",
    "\n",
    "agent = SarsaAgent(\n",
    "    env=env,\n",
    "    alpha=0.1,\n",
    "    gamma=0.99,\n",
    "    epsilon=1.0,\n",
    "    epsilon_decay=0.995,\n",
    "    epsilon_min=0.1,\n",
    "    pickled_q_table_path = \"./agent_rack/sarsa_q_table.pkl\"\n",
    ")"
   ],
   "outputs": [],
   "execution_count": 2
  },
  {
   "metadata": {
    "ExecuteTime": {
     "end_time": "2024-12-05T13:09:26.033411Z",
     "start_time": "2024-12-05T13:09:26.020614Z"
    }
   },
   "cell_type": "code",
   "source": [
    "\n",
    "print(\"Training started...\")\n",
    "agent.train(episodes=10000)"
   ],
   "outputs": [
    {
     "name": "stdout",
     "output_type": "stream",
     "text": [
      "Training started...\n"
     ]
    },
    {
     "name": "stderr",
     "output_type": "stream",
     "text": [
      "100%|██████████| 1/1 [00:00<00:00, 233.81it/s]"
     ]
    },
    {
     "name": "stdout",
     "output_type": "stream",
     "text": [
      "Training finished!\n"
     ]
    },
    {
     "name": "stderr",
     "output_type": "stream",
     "text": [
      "\n"
     ]
    }
   ],
   "execution_count": 4
  },
  {
   "metadata": {
    "ExecuteTime": {
     "end_time": "2024-12-05T13:10:14.236843Z",
     "start_time": "2024-12-05T13:10:11.253206Z"
    }
   },
   "cell_type": "code",
   "source": [
    "\n",
    "print(\"Testing started\")\n",
    "test_agent(env, agent, episodes=10)"
   ],
   "outputs": [
    {
     "name": "stdout",
     "output_type": "stream",
     "text": [
      "Testing started\n",
      "Choose action: 0\n",
      "Choose action: 0\n",
      "Choose action: 0\n",
      "Choose action: 0\n",
      "Choose action: 0\n",
      "Choose action: 0\n",
      "Choose action: 0\n",
      "Choose action: 0\n",
      "Choose action: 0\n",
      "Choose action: 0\n",
      "Choose action: 0\n",
      "Choose action: 0\n",
      "Choose action: 0\n",
      "Choose action: 0\n",
      "Choose action: 0\n",
      "Choose action: 0\n",
      "Choose action: 0\n",
      "Choose action: 0\n",
      "Choose action: 0\n",
      "Choose action: 0\n",
      "Choose action: 0\n",
      "Choose action: 0\n",
      "Choose action: 0\n",
      "Choose action: 0\n",
      "Choose action: 0\n",
      "Choose action: 0\n",
      "Choose action: 0\n",
      "Choose action: 0\n",
      "Choose action: 0\n",
      "Choose action: 0\n",
      "Choose action: 0\n",
      "Choose action: 0\n",
      "Choose action: 0\n",
      "Choose action: 0\n",
      "Choose action: 0\n",
      "Choose action: 0\n",
      "Choose action: 0\n",
      "Choose action: 0\n",
      "Choose action: 0\n",
      "Choose action: 0\n",
      "Choose action: 0\n",
      "Choose action: 0\n",
      "Choose action: 0\n",
      "Choose action: 0\n",
      "Choose action: 0\n",
      "Choose action: 0\n",
      "Choose action: 0\n",
      "Choose action: 0\n",
      "Choose action: 0\n",
      "Choose action: 0\n",
      "Choose action: 0\n",
      "Choose action: 0\n",
      "Choose action: 0\n",
      "Choose action: 0\n",
      "Choose action: 0\n",
      "Choose action: 0\n",
      "Choose action: 0\n",
      "Choose action: 0\n",
      "Choose action: 0\n",
      "Choose action: 0\n",
      "Choose action: 0\n",
      "Choose action: 0\n",
      "Choose action: 0\n",
      "Choose action: 0\n",
      "Choose action: 0\n",
      "Choose action: 0\n",
      "Choose action: 0\n",
      "Choose action: 0\n",
      "Choose action: 0\n",
      "Choose action: 0\n",
      "Choose action: 0\n",
      "Choose action: 0\n",
      "Choose action: 0\n",
      "Choose action: 0\n",
      "Choose action: 0\n",
      "Choose action: 0\n",
      "Choose action: 0\n",
      "Choose action: 0\n",
      "Choose action: 0\n",
      "Choose action: 0\n",
      "Choose action: 0\n"
     ]
    },
    {
     "ename": "error",
     "evalue": "display Surface quit",
     "output_type": "error",
     "traceback": [
      "\u001B[0;31m---------------------------------------------------------------------------\u001B[0m",
      "\u001B[0;31merror\u001B[0m                                     Traceback (most recent call last)",
      "Cell \u001B[0;32mIn[5], line 3\u001B[0m\n\u001B[1;32m      1\u001B[0m \u001B[38;5;66;03m# Testare\u001B[39;00m\n\u001B[1;32m      2\u001B[0m \u001B[38;5;28mprint\u001B[39m(\u001B[38;5;124m\"\u001B[39m\u001B[38;5;124mTesting started\u001B[39m\u001B[38;5;124m\"\u001B[39m)\n\u001B[0;32m----> 3\u001B[0m \u001B[43mtest_agent\u001B[49m\u001B[43m(\u001B[49m\u001B[43menv\u001B[49m\u001B[43m,\u001B[49m\u001B[43m \u001B[49m\u001B[43magent\u001B[49m\u001B[43m,\u001B[49m\u001B[43m \u001B[49m\u001B[43mepisodes\u001B[49m\u001B[38;5;241;43m=\u001B[39;49m\u001B[38;5;241;43m10\u001B[39;49m\u001B[43m)\u001B[49m\n",
      "File \u001B[0;32m~/PycharmProjects/RL-Labyrinth/agents/base_agent.py:40\u001B[0m, in \u001B[0;36mtest_agent\u001B[0;34m(env, agent, episodes)\u001B[0m\n\u001B[1;32m     36\u001B[0m done \u001B[38;5;241m=\u001B[39m \u001B[38;5;28;01mFalse\u001B[39;00m\n\u001B[1;32m     38\u001B[0m \u001B[38;5;28;01mwhile\u001B[39;00m \u001B[38;5;129;01mnot\u001B[39;00m done:\n\u001B[0;32m---> 40\u001B[0m     \u001B[43mmaze_renderer\u001B[49m\u001B[38;5;241;43m.\u001B[39;49m\u001B[43mrender\u001B[49m\u001B[43m(\u001B[49m\u001B[43m)\u001B[49m\n\u001B[1;32m     42\u001B[0m     \u001B[38;5;28;01mfor\u001B[39;00m event \u001B[38;5;129;01min\u001B[39;00m pygame\u001B[38;5;241m.\u001B[39mevent\u001B[38;5;241m.\u001B[39mget():\n\u001B[1;32m     43\u001B[0m         \u001B[38;5;28;01mif\u001B[39;00m event\u001B[38;5;241m.\u001B[39mtype \u001B[38;5;241m==\u001B[39m pygame\u001B[38;5;241m.\u001B[39mQUIT:\n",
      "File \u001B[0;32m~/PycharmProjects/RL-Labyrinth/environment/env_renderer.py:96\u001B[0m, in \u001B[0;36mEnvRenderer.render\u001B[0;34m(self, mode)\u001B[0m\n\u001B[1;32m     94\u001B[0m     \u001B[38;5;28;01mfor\u001B[39;00m col \u001B[38;5;129;01min\u001B[39;00m \u001B[38;5;28mrange\u001B[39m(\u001B[38;5;28mself\u001B[39m\u001B[38;5;241m.\u001B[39mmaze_env\u001B[38;5;241m.\u001B[39mwidth):\n\u001B[1;32m     95\u001B[0m         x, y \u001B[38;5;241m=\u001B[39m col \u001B[38;5;241m*\u001B[39m \u001B[38;5;28mself\u001B[39m\u001B[38;5;241m.\u001B[39mcell_size, row \u001B[38;5;241m*\u001B[39m \u001B[38;5;28mself\u001B[39m\u001B[38;5;241m.\u001B[39mcell_size\n\u001B[0;32m---> 96\u001B[0m         \u001B[38;5;28;43mself\u001B[39;49m\u001B[38;5;241;43m.\u001B[39;49m\u001B[43mscreen\u001B[49m\u001B[38;5;241;43m.\u001B[39;49m\u001B[43mblit\u001B[49m\u001B[43m(\u001B[49m\u001B[38;5;28;43mself\u001B[39;49m\u001B[38;5;241;43m.\u001B[39;49m\u001B[43mbackground_images\u001B[49m\u001B[43m[\u001B[49m\u001B[43mi\u001B[49m\u001B[43m]\u001B[49m\u001B[43m,\u001B[49m\u001B[43m \u001B[49m\u001B[43m(\u001B[49m\u001B[43mx\u001B[49m\u001B[43m,\u001B[49m\u001B[43m \u001B[49m\u001B[43my\u001B[49m\u001B[43m)\u001B[49m\u001B[43m)\u001B[49m\n\u001B[1;32m     97\u001B[0m         i \u001B[38;5;241m+\u001B[39m\u001B[38;5;241m=\u001B[39m \u001B[38;5;241m1\u001B[39m\n\u001B[1;32m     99\u001B[0m \u001B[38;5;66;03m# Draw lines\u001B[39;00m\n",
      "\u001B[0;31merror\u001B[0m: display Surface quit"
     ]
    }
   ],
   "execution_count": 5
  }
 ],
 "metadata": {
  "kernelspec": {
   "display_name": "RL-Labyrinth",
   "language": "python",
   "name": "python3"
  },
  "language_info": {
   "codemirror_mode": {
    "name": "ipython",
    "version": 3
   },
   "file_extension": ".py",
   "mimetype": "text/x-python",
   "name": "python",
   "nbconvert_exporter": "python",
   "pygments_lexer": "ipython3",
   "version": "3.10.15"
  }
 },
 "nbformat": 4,
 "nbformat_minor": 2
}
