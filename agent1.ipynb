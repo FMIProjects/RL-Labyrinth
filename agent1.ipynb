{
 "cells": [
  {
   "cell_type": "markdown",
   "metadata": {},
   "source": [
    "# Agent 1 - (Name of Agent)"
   ]
  },
  {
   "cell_type": "code",
   "execution_count": null,
   "metadata": {
    "ExecuteTime": {
     "end_time": "2024-11-19T11:01:16.767573Z",
     "start_time": "2024-11-19T11:01:16.445150Z"
    }
   },
   "outputs": [],
   "source": [
    "# Dependencies\n",
    "\n",
    "from environment.maze_env import MazeEnv\n",
    "import pygame\n",
    "import sys"
   ]
  },
  {
   "cell_type": "code",
   "execution_count": null,
   "metadata": {
    "ExecuteTime": {
     "end_time": "2024-11-19T11:01:31.123048Z",
     "start_time": "2024-11-19T11:01:31.112502Z"
    }
   },
   "outputs": [],
   "source": [
    "# Environment setup\n",
    "\n",
    "# Parameters\n",
    "width = 10  # needs to be a multiple of 2\n",
    "height = 10  # needs to be a multiple of 2\n",
    "num_keys = 3\n",
    "cell_size = 20\n",
    "distance_type = \"manhattan\"\n",
    "\n",
    "# Environment creation\n",
    "env = MazeEnv(width=width, height=height, num_keys=num_keys, cell_size=cell_size, distance_type=distance_type,fps=30)"
   ]
  }
 ],
 "metadata": {
  "kernelspec": {
   "display_name": "RL-Labyrinth",
   "language": "python",
   "name": "python3"
  },
  "language_info": {
   "codemirror_mode": {
    "name": "ipython",
    "version": 3
   },
   "file_extension": ".py",
   "mimetype": "text/x-python",
   "name": "python",
   "nbconvert_exporter": "python",
   "pygments_lexer": "ipython3",
   "version": "3.10.15"
  }
 },
 "nbformat": 4,
 "nbformat_minor": 2
}
