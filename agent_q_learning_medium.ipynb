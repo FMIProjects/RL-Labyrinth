{
 "cells": [
  {
   "cell_type": "markdown",
   "metadata": {},
   "source": [
    "# Agent - Q-learning\n"
   ]
  },
  {
   "cell_type": "markdown",
   "metadata": {},
   "source": [
    "## Imports"
   ]
  },
  {
   "cell_type": "code",
   "execution_count": null,
   "metadata": {
    "ExecuteTime": {
     "end_time": "2024-12-28T14:03:48.889340Z",
     "start_time": "2024-12-28T14:03:48.662274Z"
    }
   },
   "outputs": [],
   "source": [
    "from agents.Q_learning_agent import QLearningAgent\n",
    "from agents.base_agent import test_agent\n",
    "from environment.maze_envs import MazeEnv"
   ]
  },
  {
   "cell_type": "markdown",
   "metadata": {},
   "source": [
    "## Env + Agent Setup\n",
    "\n",
    "- Medium size maze\n",
    "- No keys\n",
    "- No obstacles\n",
    "- Small observation space"
   ]
  },
  {
   "cell_type": "code",
   "execution_count": null,
   "metadata": {
    "ExecuteTime": {
     "end_time": "2024-12-28T14:03:50.215633Z",
     "start_time": "2024-12-28T14:03:50.206572Z"
    }
   },
   "outputs": [],
   "source": [
    "\n",
    "# Try to load the agent otherwise create an untrained one\n",
    "agent = QLearningAgent(load_pickle_path=\"agent_rack/q_learning_agent_medium.pkl\")\n",
    "try:\n",
    "    agent.deserialize()\n",
    "except Exception as e:\n",
    "\n",
    "    env = MazeEnv(\n",
    "        width=12,\n",
    "        height=12,\n",
    "        num_keys=0,\n",
    "        num_obstacles=0,\n",
    "        peek_distance=1,\n",
    "        distance_type=\"manhattan\",\n",
    "        new_layout_on_reset=False\n",
    "    )\n",
    "\n",
    "    agent = QLearningAgent(\n",
    "        env=env,\n",
    "        alpha=0.05,\n",
    "        gamma=0.9,\n",
    "        epsilon=1.0,\n",
    "        epsilon_decay=0.99,\n",
    "        epsilon_min=0.2,\n",
    "        load_pickle_path=None,\n",
    "        store_pickle_path=\"agent_rack/q_learning_agent_medium.pkl\",\n",
    ")\n",
    "\n",
    "print(f\"Agent q-table size: {len(agent.q_table)}\")"
   ]
  },
  {
   "cell_type": "markdown",
   "metadata": {},
   "source": [
    "## Agent Train"
   ]
  },
  {
   "cell_type": "code",
   "execution_count": null,
   "metadata": {
    "ExecuteTime": {
     "end_time": "2024-12-28T11:25:19.328330Z",
     "start_time": "2024-12-28T11:22:03.511172Z"
    }
   },
   "outputs": [],
   "source": [
    "print(\"Training started...\")\n",
    "agent.train(episodes=200000)"
   ]
  },
  {
   "cell_type": "code",
   "execution_count": 9,
   "metadata": {
    "ExecuteTime": {
     "end_time": "2024-12-28T11:06:04.249803Z",
     "start_time": "2024-12-28T11:06:04.204837Z"
    }
   },
   "outputs": [],
   "source": [
    "agent.serialize()"
   ]
  },
  {
   "cell_type": "markdown",
   "metadata": {},
   "source": [
    "## Agent Test"
   ]
  },
  {
   "cell_type": "code",
   "execution_count": null,
   "metadata": {},
   "outputs": [],
   "source": [
    "print(\"Testing started...\")\n",
    "test_agent(agent.env, agent, episodes=100,renderer_assets_dir_path=\"assets\")"
   ]
  }
 ],
 "metadata": {
  "kernelspec": {
   "display_name": "RL-Labyrinth",
   "language": "python",
   "name": "python3"
  },
  "language_info": {
   "codemirror_mode": {
    "name": "ipython",
    "version": 3
   },
   "file_extension": ".py",
   "mimetype": "text/x-python",
   "name": "python",
   "nbconvert_exporter": "python",
   "pygments_lexer": "ipython3",
   "version": "3.10.15"
  }
 },
 "nbformat": 4,
 "nbformat_minor": 2
}
