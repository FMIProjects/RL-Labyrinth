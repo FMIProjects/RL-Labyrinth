{
 "cells": [
  {
   "cell_type": "markdown",
   "metadata": {},
   "source": "# Agent - Sarsa\n"
  },
  {
   "cell_type": "markdown",
   "metadata": {},
   "source": [
    "## Imports"
   ]
  },
  {
   "cell_type": "code",
   "metadata": {
    "ExecuteTime": {
     "end_time": "2024-12-28T11:40:54.123951Z",
     "start_time": "2024-12-28T11:40:54.120765Z"
    }
   },
   "source": [
    "from agents.SARSA_agent import SarsaAgent\n",
    "from agents.base_agent import test_agent\n",
    "from environment.maze_envs import MazeEnv"
   ],
   "outputs": [],
   "execution_count": 19
  },
  {
   "cell_type": "markdown",
   "metadata": {},
   "source": [
    "## Env + Agent Setup\n",
    "\n",
    "- Medium size maze\n",
    "- No keys\n",
    "- No obstacles\n",
    "- Small observation space"
   ]
  },
  {
   "cell_type": "code",
   "metadata": {
    "ExecuteTime": {
     "end_time": "2024-12-28T12:24:32.261135Z",
     "start_time": "2024-12-28T12:24:31.922054Z"
    }
   },
   "source": [
    "\n",
    "# Try to load the agent otherwise create an untrained one\n",
    "agent = SarsaAgent(load_pickle_path=\"../agent_rack/sarsa_agent_large.pkl\")\n",
    "try:\n",
    "    agent.deserialize()\n",
    "except Exception as e:\n",
    "\n",
    "    env = MazeEnv(\n",
    "        width=20,\n",
    "        height=20,\n",
    "        num_keys=0,\n",
    "        num_obstacles=0,\n",
    "        peek_distance=1,\n",
    "        distance_type=\"manhattan\",\n",
    "        new_layout_on_reset=False\n",
    "    )\n",
    "\n",
    "    agent = SarsaAgent(\n",
    "        env=env,\n",
    "        alpha=0.1,\n",
    "        gamma=0.99,\n",
    "        epsilon=1.0,\n",
    "        epsilon_decay=0.999993,\n",
    "        epsilon_min=0.1,\n",
    "        load_pickle_path=None,\n",
    "        store_pickle_path=\"../agent_rack/sarsa_agent_large.pkl\",\n",
    ")\n",
    "\n",
    "print(f\"Agent q-table size: {len(agent.q_table)}\")"
   ],
   "outputs": [
    {
     "name": "stdout",
     "output_type": "stream",
     "text": [
      "Agent q-table size: 633940\n"
     ]
    }
   ],
   "execution_count": 42
  },
  {
   "cell_type": "markdown",
   "metadata": {},
   "source": [
    "## Agent Train"
   ]
  },
  {
   "cell_type": "code",
   "metadata": {
    "ExecuteTime": {
     "end_time": "2024-12-28T12:51:18.405828Z",
     "start_time": "2024-12-28T12:47:51.458560Z"
    }
   },
   "source": [
    "print(\"Training started...\")\n",
    "agent.train(episodes=500000)"
   ],
   "outputs": [
    {
     "name": "stdout",
     "output_type": "stream",
     "text": [
      "Training started...\n"
     ]
    },
    {
     "name": "stderr",
     "output_type": "stream",
     "text": [
      "100%|██████████| 500000/500000 [03:26<00:00, 2416.14it/s]"
     ]
    },
    {
     "name": "stdout",
     "output_type": "stream",
     "text": [
      "Training finished!\n"
     ]
    },
    {
     "name": "stderr",
     "output_type": "stream",
     "text": [
      "\n"
     ]
    }
   ],
   "execution_count": 62
  },
  {
   "metadata": {
    "ExecuteTime": {
     "end_time": "2024-12-28T12:54:03.933393Z",
     "start_time": "2024-12-28T12:54:03.405232Z"
    }
   },
   "cell_type": "code",
   "source": "agent.serialize()",
   "outputs": [],
   "execution_count": 67
  },
  {
   "cell_type": "markdown",
   "metadata": {},
   "source": [
    "## Agent Test"
   ]
  },
  {
   "metadata": {
    "ExecuteTime": {
     "end_time": "2024-12-28T12:53:49.647638Z",
     "start_time": "2024-12-28T12:53:11.701728Z"
    }
   },
   "cell_type": "code",
   "source": [
    "print(\"Testing started...\")\n",
    "test_agent(agent.env, agent, episodes=100,renderer_assets_dir_path=\"../assets\")"
   ],
   "outputs": [
    {
     "name": "stdout",
     "output_type": "stream",
     "text": [
      "Testing started...\n"
     ]
    },
    {
     "ename": "error",
     "evalue": "display Surface quit",
     "output_type": "error",
     "traceback": [
      "\u001B[0;31m---------------------------------------------------------------------------\u001B[0m",
      "\u001B[0;31merror\u001B[0m                                     Traceback (most recent call last)",
      "Cell \u001B[0;32mIn[66], line 2\u001B[0m\n\u001B[1;32m      1\u001B[0m \u001B[38;5;28mprint\u001B[39m(\u001B[38;5;124m\"\u001B[39m\u001B[38;5;124mTesting started...\u001B[39m\u001B[38;5;124m\"\u001B[39m)\n\u001B[0;32m----> 2\u001B[0m \u001B[43mtest_agent\u001B[49m\u001B[43m(\u001B[49m\u001B[43magent\u001B[49m\u001B[38;5;241;43m.\u001B[39;49m\u001B[43menv\u001B[49m\u001B[43m,\u001B[49m\u001B[43m \u001B[49m\u001B[43magent\u001B[49m\u001B[43m,\u001B[49m\u001B[43m \u001B[49m\u001B[43mepisodes\u001B[49m\u001B[38;5;241;43m=\u001B[39;49m\u001B[38;5;241;43m100\u001B[39;49m\u001B[43m,\u001B[49m\u001B[43mrenderer_assets_dir_path\u001B[49m\u001B[38;5;241;43m=\u001B[39;49m\u001B[38;5;124;43m\"\u001B[39;49m\u001B[38;5;124;43m../assets\u001B[39;49m\u001B[38;5;124;43m\"\u001B[39;49m\u001B[43m)\u001B[49m\n",
      "File \u001B[0;32m~/PycharmProjects/RL-Labyrinth/agents/base_agent.py:69\u001B[0m, in \u001B[0;36mtest_agent\u001B[0;34m(env, agent, episodes, verbose, renderer_assets_dir_path)\u001B[0m\n\u001B[1;32m     65\u001B[0m done \u001B[38;5;241m=\u001B[39m \u001B[38;5;28;01mFalse\u001B[39;00m\n\u001B[1;32m     67\u001B[0m \u001B[38;5;28;01mwhile\u001B[39;00m \u001B[38;5;129;01mnot\u001B[39;00m done:\n\u001B[0;32m---> 69\u001B[0m     \u001B[43mmaze_renderer\u001B[49m\u001B[38;5;241;43m.\u001B[39;49m\u001B[43mrender\u001B[49m\u001B[43m(\u001B[49m\u001B[43m)\u001B[49m\n\u001B[1;32m     71\u001B[0m     \u001B[38;5;28;01mfor\u001B[39;00m event \u001B[38;5;129;01min\u001B[39;00m pygame\u001B[38;5;241m.\u001B[39mevent\u001B[38;5;241m.\u001B[39mget():\n\u001B[1;32m     72\u001B[0m         \u001B[38;5;28;01mif\u001B[39;00m event\u001B[38;5;241m.\u001B[39mtype \u001B[38;5;241m==\u001B[39m pygame\u001B[38;5;241m.\u001B[39mQUIT:\n",
      "File \u001B[0;32m~/PycharmProjects/RL-Labyrinth/environment/env_renderer.py:128\u001B[0m, in \u001B[0;36mEnvRenderer.render\u001B[0;34m(self, mode)\u001B[0m\n\u001B[1;32m    126\u001B[0m     \u001B[38;5;28;01mfor\u001B[39;00m col \u001B[38;5;129;01min\u001B[39;00m \u001B[38;5;28mrange\u001B[39m(\u001B[38;5;28mself\u001B[39m\u001B[38;5;241m.\u001B[39mmaze_env\u001B[38;5;241m.\u001B[39mwidth):\n\u001B[1;32m    127\u001B[0m         x, y \u001B[38;5;241m=\u001B[39m col \u001B[38;5;241m*\u001B[39m \u001B[38;5;28mself\u001B[39m\u001B[38;5;241m.\u001B[39mcell_size, row \u001B[38;5;241m*\u001B[39m \u001B[38;5;28mself\u001B[39m\u001B[38;5;241m.\u001B[39mcell_size\n\u001B[0;32m--> 128\u001B[0m         \u001B[38;5;28;43mself\u001B[39;49m\u001B[38;5;241;43m.\u001B[39;49m\u001B[43mscreen\u001B[49m\u001B[38;5;241;43m.\u001B[39;49m\u001B[43mblit\u001B[49m\u001B[43m(\u001B[49m\u001B[38;5;28;43mself\u001B[39;49m\u001B[38;5;241;43m.\u001B[39;49m\u001B[43mbackground_images\u001B[49m\u001B[43m[\u001B[49m\u001B[43mi\u001B[49m\u001B[43m]\u001B[49m\u001B[43m,\u001B[49m\u001B[43m \u001B[49m\u001B[43m(\u001B[49m\u001B[43mx\u001B[49m\u001B[43m,\u001B[49m\u001B[43m \u001B[49m\u001B[43my\u001B[49m\u001B[43m)\u001B[49m\u001B[43m)\u001B[49m\n\u001B[1;32m    129\u001B[0m         i \u001B[38;5;241m+\u001B[39m\u001B[38;5;241m=\u001B[39m \u001B[38;5;241m1\u001B[39m\n\u001B[1;32m    131\u001B[0m \u001B[38;5;66;03m# Draw lines\u001B[39;00m\n",
      "\u001B[0;31merror\u001B[0m: display Surface quit"
     ]
    }
   ],
   "execution_count": 66
  },
  {
   "metadata": {
    "ExecuteTime": {
     "end_time": "2024-12-28T12:46:56.236027Z",
     "start_time": "2024-12-28T12:46:56.232653Z"
    }
   },
   "cell_type": "code",
   "source": "print(f\"Agent q-table size: {len(agent.q_table)}\")",
   "outputs": [
    {
     "name": "stdout",
     "output_type": "stream",
     "text": [
      "Agent q-table size: 633944\n"
     ]
    }
   ],
   "execution_count": 57
  }
 ],
 "metadata": {
  "kernelspec": {
   "display_name": "RL-Labyrinth",
   "language": "python",
   "name": "python3"
  },
  "language_info": {
   "codemirror_mode": {
    "name": "ipython",
    "version": 3
   },
   "file_extension": ".py",
   "mimetype": "text/x-python",
   "name": "python",
   "nbconvert_exporter": "python",
   "pygments_lexer": "ipython3",
   "version": "3.10.15"
  }
 },
 "nbformat": 4,
 "nbformat_minor": 2
}
